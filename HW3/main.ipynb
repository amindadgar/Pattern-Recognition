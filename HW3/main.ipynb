{
 "cells": [
  {
   "cell_type": "code",
   "execution_count": 1,
   "id": "486ce235-07e6-4889-9f8f-f2638da39ec6",
   "metadata": {},
   "outputs": [],
   "source": [
    "import numpy as np\n",
    "import matplotlib.pyplot as plt\n",
    "import pandas as pd"
   ]
  },
  {
   "cell_type": "markdown",
   "id": "288764d8-0f42-48b6-843f-ef8bd20d21c1",
   "metadata": {},
   "source": [
    "# Preprocessing"
   ]
  },
  {
   "cell_type": "markdown",
   "id": "204c16a9-743c-43e9-87d6-47af4d38ea0e",
   "metadata": {},
   "source": [
    "<font size='3'>\n",
    "    In this section we will go through the data \n",
    "    Reading the data and some preprations\n",
    "</font>\n",
    "<br>\n",
    "<font size='3'>\n",
    "The training contains float data but they are in string format so we must split them\n",
    "delimiter is space and the first character is space, So we will go through string data and convert it to float \n",
    "</font>"
   ]
  },
  {
   "cell_type": "code",
   "execution_count": 2,
   "id": "adba8e54-2e7f-4647-87b3-12953dbe5c36",
   "metadata": {},
   "outputs": [],
   "source": [
    "#################### read dataset ####################\n",
    "def process_string_dataset(string_data, delimiter = ' '):\n",
    "    \"\"\"\n",
    "    convert the data we have in string to float\n",
    "    string_data can be lines of strings\n",
    "    \"\"\"\n",
    "    ## count of data lines\n",
    "    data_line_count = len(string_data)\n",
    "\n",
    "    ## Data is our data values in float\n",
    "    data_floats = []\n",
    "    ## create a temp string to save each numbers character\n",
    "    temp_string = ''\n",
    "\n",
    "    ## go through the data and convert it to float\n",
    "    for index in range(0, data_line_count):\n",
    "        data_floats.append([])\n",
    "        for character in string_data[index][1:]:\n",
    "            if(character != delimiter and character != '\\n'):\n",
    "                temp_string += character\n",
    "            else:\n",
    "                ## if the string goes to delimiter convert the data into float\n",
    "                ## and reset temp_string variable to save the next data\n",
    "                data_floats[index].append(float(temp_string))\n",
    "                temp_string = ''\n",
    "                \n",
    "    return data_floats\n",
    "\n",
    "\n",
    "\n",
    "def read_dataset(name):\n",
    "    \"\"\"\n",
    "    read our given dataset and return the datas\n",
    "    name is the dataset directory with its name can be forexample: ../toy/Atrain\n",
    "    \"\"\"\n",
    "    file = open(name, 'r')\n",
    "\n",
    "    lines = file.readlines()\n",
    "    data_lines = []\n",
    "    for line in lines:\n",
    "        ## dataset with # in the start does not contain data\n",
    "        if(line[0] != '#'):\n",
    "            data_lines.append(line)\n",
    "            \n",
    "    ## convert to float and return the ready dataset\n",
    "    float_data = process_string_dataset(data_lines)\n",
    "    return float_data"
   ]
  },
  {
   "cell_type": "code",
   "execution_count": 12,
   "id": "221b9ed5-0aa6-4e22-85dc-302a788ff503",
   "metadata": {},
   "outputs": [
    {
     "data": {
      "text/plain": [
       "(4, 1000)"
      ]
     },
     "execution_count": 12,
     "metadata": {},
     "output_type": "execute_result"
    }
   ],
   "source": [
    "train_raw_data = read_dataset('../toy dataset/Atrain')\n",
    "np.array(train_raw_data).shape"
   ]
  },
  {
   "cell_type": "markdown",
   "id": "eec7ce47-cb12-4226-96f6-766eaf1640be",
   "metadata": {},
   "source": [
    "<font size='3'>\n",
    "    since the data was 2*1000 (For each class) we create two matrixes <br>\n",
    "    two matrixes was made and the two shows the 2 classes we have\n",
    "</font>"
   ]
  },
  {
   "cell_type": "code",
   "execution_count": 4,
   "id": "ff0ec5a6-3d25-45ac-9107-37cd082b6ef8",
   "metadata": {},
   "outputs": [],
   "source": [
    "## create the claases matrix as in file\n",
    "train_class1 = np.matrix(train_raw_data[:2])\n",
    "train_class2 = np.matrix(train_raw_data[2:])"
   ]
  },
  {
   "cell_type": "markdown",
   "id": "5c43c9a1-4a22-4855-b59c-200b60aa16f5",
   "metadata": {},
   "source": [
    "<font size='3'>\n",
    "    Convert Dataset into pandas dataframe \n",
    "</font>"
   ]
  },
  {
   "cell_type": "code",
   "execution_count": 5,
   "id": "f5e0b15a-3ba9-48a8-8b88-5dcb6421f374",
   "metadata": {},
   "outputs": [],
   "source": [
    "def attach_classes(data_frames, labels):\n",
    "    \"\"\"\n",
    "    Consider each dataframe a class of our data\n",
    "    attach the dataframes into one and add the class lebels\n",
    "    Inputs:\n",
    "    data_frames is an array of data_frames\n",
    "    lebels is the labels to the classes\n",
    "    \"\"\"\n",
    "    \n",
    "    data_frame_count = len(data_frames)\n",
    "    \n",
    "    ## create an empty dataframe\n",
    "    df = pd.DataFrame()\n",
    "    \n",
    "    for i in range(0, data_frame_count):\n",
    "        ## create the label array for each class with the class data count\n",
    "        class_label = np.full(len(data_frames[i]), labels[i])\n",
    "        ## add the label to each class\n",
    "        data_frames[i]['label'] = class_label \n",
    "        df = df.append(data_frames[i], ignore_index=True)\n",
    "        \n",
    "    return df\n",
    "\n",
    "## convert each class to a dataframe\n",
    "def convert_to_pd_dataframe(matrix_data):\n",
    "    \"\"\"\n",
    "    convert a dataset in the form of matrix into pandas dataframe\n",
    "    Inputs:\n",
    "    matrix_data with two feature space\n",
    "    \"\"\"\n",
    "    df = pd.DataFrame(matrix_data, columns=['feature_one', 'feature_two']) \n",
    "    \n",
    "    return df\n",
    "def convert_rowData_df(row_Datas, labels):\n",
    "    \"\"\"\n",
    "    convert raw data into dataframes\n",
    "    Input:\n",
    "    row_Datas must be an array with the raw datas,\n",
    "    if we had one raw data then it must be as [raw_data]\n",
    "    each raw_data is for one class\n",
    "    \n",
    "    lebels is the labels to the data classes\n",
    "    \"\"\"\n",
    "    ## create an array containing the dataframes \n",
    "    df_class_arrays = []\n",
    "    \n",
    "    ## get the count of row datas needed to be converted\n",
    "    count = len(row_Datas)\n",
    "    \n",
    "    ## go through each row data array and create get a dataframe for each\n",
    "    for i in range(0, count):\n",
    "        df = convert_to_pd_dataframe(np.matrix(row_Datas[i]))\n",
    "        df_class_arrays.append(df)\n",
    "    \n",
    "    ## attach the dataframes of each row data (each row data represent a class)\n",
    "    df = attach_classes(df_class_arrays, labels)\n",
    "    \n",
    "    return df\n",
    "        "
   ]
  },
  {
   "cell_type": "code",
   "execution_count": 7,
   "id": "5953add5-ac7a-43bb-9f8a-0b33081018de",
   "metadata": {},
   "outputs": [
    {
     "data": {
      "text/html": [
       "<div>\n",
       "<style scoped>\n",
       "    .dataframe tbody tr th:only-of-type {\n",
       "        vertical-align: middle;\n",
       "    }\n",
       "\n",
       "    .dataframe tbody tr th {\n",
       "        vertical-align: top;\n",
       "    }\n",
       "\n",
       "    .dataframe thead th {\n",
       "        text-align: right;\n",
       "    }\n",
       "</style>\n",
       "<table border=\"1\" class=\"dataframe\">\n",
       "  <thead>\n",
       "    <tr style=\"text-align: right;\">\n",
       "      <th></th>\n",
       "      <th>feature_one</th>\n",
       "      <th>feature_two</th>\n",
       "      <th>label</th>\n",
       "    </tr>\n",
       "  </thead>\n",
       "  <tbody>\n",
       "    <tr>\n",
       "      <th>0</th>\n",
       "      <td>-0.813596</td>\n",
       "      <td>1.423864</td>\n",
       "      <td>0</td>\n",
       "    </tr>\n",
       "    <tr>\n",
       "      <th>1</th>\n",
       "      <td>-0.347811</td>\n",
       "      <td>-0.494301</td>\n",
       "      <td>0</td>\n",
       "    </tr>\n",
       "    <tr>\n",
       "      <th>2</th>\n",
       "      <td>0.188346</td>\n",
       "      <td>-0.277319</td>\n",
       "      <td>0</td>\n",
       "    </tr>\n",
       "    <tr>\n",
       "      <th>3</th>\n",
       "      <td>0.167306</td>\n",
       "      <td>0.179168</td>\n",
       "      <td>0</td>\n",
       "    </tr>\n",
       "    <tr>\n",
       "      <th>4</th>\n",
       "      <td>-0.899921</td>\n",
       "      <td>1.323836</td>\n",
       "      <td>0</td>\n",
       "    </tr>\n",
       "  </tbody>\n",
       "</table>\n",
       "</div>"
      ],
      "text/plain": [
       "   feature_one  feature_two  label\n",
       "0    -0.813596     1.423864      0\n",
       "1    -0.347811    -0.494301      0\n",
       "2     0.188346    -0.277319      0\n",
       "3     0.167306     0.179168      0\n",
       "4    -0.899921     1.323836      0"
      ]
     },
     "execution_count": 7,
     "metadata": {},
     "output_type": "execute_result"
    }
   ],
   "source": [
    "df_train = convert_rowData_df([train_class1.T, train_class2.T], [0, 1])\n",
    "df_train.head()"
   ]
  },
  {
   "cell_type": "markdown",
   "id": "a84598da-58de-4509-ad31-1272e8f0d4e8",
   "metadata": {},
   "source": [
    "## implementing KNN algorithm\n",
    "As we know about the algorithm it uses the k nearest neigber to check which class it belongs "
   ]
  },
  {
   "cell_type": "code",
   "execution_count": 17,
   "id": "7459f64f-699a-4ecf-bf16-a516b227c97c",
   "metadata": {},
   "outputs": [],
   "source": [
    "## load test dataset\n",
    "test_raw_data = read_dataset('../toy dataset/Atest')\n",
    "test_df = convert_to_pd_dataframe(np.matrix(test_raw_data).T)"
   ]
  }
 ],
 "metadata": {
  "kernelspec": {
   "display_name": "Python 3 (ipykernel)",
   "language": "python",
   "name": "python3"
  },
  "language_info": {
   "codemirror_mode": {
    "name": "ipython",
    "version": 3
   },
   "file_extension": ".py",
   "mimetype": "text/x-python",
   "name": "python",
   "nbconvert_exporter": "python",
   "pygments_lexer": "ipython3",
   "version": "3.8.10"
  }
 },
 "nbformat": 4,
 "nbformat_minor": 5
}
