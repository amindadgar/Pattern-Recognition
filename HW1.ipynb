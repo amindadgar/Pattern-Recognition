{
 "cells": [
  {
   "cell_type": "code",
   "execution_count": 2,
   "id": "52fd271b-94c7-4465-b4b6-ccb1eb7ca3ea",
   "metadata": {},
   "outputs": [],
   "source": [
    "import numpy as np\n",
    "import matplotlib.pyplot as plt"
   ]
  },
  {
   "cell_type": "markdown",
   "id": "b74c3197-99e4-4ef8-b133-1cfdecce1721",
   "metadata": {},
   "source": [
    "# Question 2"
   ]
  },
  {
   "cell_type": "code",
   "execution_count": 4,
   "id": "e71cfad7-89b0-48dc-b338-70315f463969",
   "metadata": {},
   "outputs": [],
   "source": [
    "##################### The Functions for Question 2 #####################\n",
    "\n",
    "## Generate identical and independece random variables with n dimension\n",
    "def generate_iid( n, variable_count = 100000):\n",
    "    ## n is the feature size of each X (dimension)\n",
    "    ## variable_count is the count of random variables we want to make\n",
    "    \n",
    "    ## Fix the seed for reproduction to be the same each time we call the function!\n",
    "    np.random.seed(1)\n",
    "    \n",
    "    ## This will create Identical Random Variables\n",
    "    ## Also It make them independence as possible\n",
    "    X = []\n",
    "    for _ in range(variable_count):\n",
    "        x_generated = np.random.uniform(0,1,size = n)\n",
    "        X.append(x_generated)\n",
    "    \n",
    "    return X\n",
    "\n",
    "## Volume functoin is due to calculate the volume of the data \n",
    "## Ex: With n = 3, we have a cube to calculate the volume\n",
    "def volume_function(n, variable_count = 100000, varbose= False):\n",
    "    ## n is the feature size of each X\n",
    "    ## variable_count is the count of random variables we want to make\n",
    "    ## verbose variable is weather to print the progress or not\n",
    "    \n",
    "    X_input = generate_iid(n, variable_count)\n",
    "    ## X_input is the Random set of Variables with uniform distribution\n",
    "    \n",
    "    base = (10**(-4)) * (6 / np.sqrt(6 * np.pi)) \n",
    "    value = np.zeros(n)\n",
    "    \n",
    "    for idx, x in enumerate(X_input):\n",
    "        value += np.exp(-np.sqrt(3) * (x - 0.5))\n",
    "        if varbose:\n",
    "            print('Creating Value result matrix, Progress: ', int(idx / len(X_input)),'%') \n",
    "    \n",
    "    value = value * base\n",
    "    return value\n",
    "\n"
   ]
  },
  {
   "cell_type": "code",
   "execution_count": 5,
   "id": "18bb7018-7644-4b2e-97b0-60e21c72d55f",
   "metadata": {},
   "outputs": [],
   "source": [
    "##################### Distribution for n_dimentionality #####################\n",
    "distribution_50_D = volume_function(n = 50)\n",
    "distribution_100_D = volume_function(n = 100)\n",
    "distribution_200_D = volume_function(n = 200)\n",
    "distribution_1000_D = volume_function(n = 1000)"
   ]
  },
  {
   "cell_type": "code",
   "execution_count": 6,
   "id": "d51189a5-5bb4-4e68-b073-18dc82fbadb2",
   "metadata": {},
   "outputs": [
    {
     "data": {
      "image/png": "[encoded data removed]",
      "text/plain": [
       "<Figure size 1080x576 with 4 Axes>"
      ]
     },
     "metadata": {
      "needs_background": "light"
     },
     "output_type": "display_data"
    }
   ],
   "source": [
    "fig, axes = plt.subplots(2,2, figsize=(15,8))\n",
    "\n",
    "axes[0][0].hist(distribution_50_D, color='c')\n",
    "axes[0][0].legend(['50 Dimentions Distribution'])\n",
    "axes[0][0].set_xlabel('Values')\n",
    "axes[0][0].set_ylabel('Counts')\n",
    "\n",
    "axes[0][1].hist(distribution_100_D, color='c')\n",
    "axes[0][1].legend(['100 Dimentions Distribution'])\n",
    "axes[0][1].set_xlabel('Values')\n",
    "axes[0][1].set_ylabel('Counts')\n",
    "\n",
    "axes[1][0].hist(distribution_200_D, color='c')\n",
    "axes[1][0].legend(['200 Dimentions Distribution'])\n",
    "axes[1][0].set_xlabel('Values')\n",
    "axes[1][0].set_ylabel('Counts')\n",
    "\n",
    "axes[1][1].hist(distribution_1000_D, color='c')\n",
    "axes[1][1].legend(['1000 Dimentions Distribution'])\n",
    "axes[1][1].set_xlabel('Values')\n",
    "axes[1][1].set_ylabel('Counts')\n",
    "\n",
    "plt.savefig('Q2_plot.png')\n",
    "plt.show()\n"
   ]
  },
  {
   "cell_type": "markdown",
   "id": "1baa08ef-a1a8-45c1-98c0-d811393215c6",
   "metadata": {
    "tags": []
   },
   "source": [
    "# Question 3"
   ]
  },
  {
   "cell_type": "code",
   "execution_count": 7,
   "id": "e479b305-f939-468a-ba10-39c0e22c1bd2",
   "metadata": {},
   "outputs": [],
   "source": [
    "##################### Probability functions #####################\n",
    "\n",
    "#### Note: This functions implemented here are came from calculating them by hand on paper\n",
    "\n",
    "## X,Y joint distribution density function\n",
    "def Probab_X_Y(a, b, mu, X,Y):\n",
    "    var1 = 1 / (2* np.pi * a*b)\n",
    "    var2 = ( np.power((Y-mu),2) / 2*(a^2))\n",
    "    var3 = ( np.power((X - Y), 2) / 2*(b^2))\n",
    "    value = var1* np.exp(-(var2+var3))\n",
    "    \n",
    "    return value\n",
    "\n",
    "## Y density function\n",
    "def Probab_Y(a, b, mu, X,Y):\n",
    "    # above the division formula\n",
    "    var1 = 2* a^2 * b^2\n",
    "    var2 = ( np.power((Y-mu),2) / 2*(a^2))\n",
    "    var3 = ( np.power((X - Y), 2) / 2*(b^2))\n",
    "    \n",
    "    # Calculate the above matrix\n",
    "    above = var1 * np.exp(-(var2+var3))\n",
    "    \n",
    "    # below the division formula\n",
    "    var5 = 4 * np.pi * a * b\n",
    "    var6 = (mu * b^2) - ((b^2) + (a^2)) * Y + ((a^2) * X)\n",
    "    \n",
    "    # Calculate the below matrix\n",
    "    below = var5 * var6\n",
    "    \n",
    "    # And at last calculate the function value\n",
    "    value = np.divide(above, below)\n",
    "    \n",
    "    return value\n",
    "\n",
    "## Calculate the probabily ofY given the information X\n",
    "def Probab_Y_Given_X(b,Y,X):\n",
    "    above = Y - X\n",
    "    below = b^2\n",
    "    \n",
    "    value = above / below\n",
    "    \n",
    "    return value"
   ]
  },
  {
   "cell_type": "code",
   "execution_count": 8,
   "id": "aaa0595d-a3fc-42fc-9211-9b8cb3dd06f2",
   "metadata": {},
   "outputs": [],
   "source": [
    "np.random.seed(1)\n",
    "X = np.random.normal(0,1, 1000)\n",
    "Y = np.random.normal(0,1, 1000)"
   ]
  },
  {
   "cell_type": "code",
   "execution_count": 9,
   "id": "8b7a7c55-825c-43dc-b6a6-11ed6d190eaf",
   "metadata": {},
   "outputs": [],
   "source": [
    "p_x_y = Probab_X_Y(40, 3, 0, X, Y)"
   ]
  },
  {
   "cell_type": "code",
   "execution_count": 10,
   "id": "122366a5-af5a-4448-931f-d6e84a6b22d0",
   "metadata": {},
   "outputs": [
    {
     "data": {
      "image/png": "[encoded data removed]",
      "text/plain": [
       "<Figure size 480x320 with 1 Axes>"
      ]
     },
     "metadata": {
      "needs_background": "light"
     },
     "output_type": "display_data"
    }
   ],
   "source": [
    "plt.figure(figsize=(6, 4), dpi=80)\n",
    "plt.hist(p_x_y ,color='c')\n",
    "plt.legend([\"P(X,Y) joint density function\"])\n",
    "plt.xlabel(\"Values\")\n",
    "plt.ylabel(\"Counts\")\n",
    "plt.show()"
   ]
  },
  {
   "cell_type": "code",
   "execution_count": 11,
   "id": "2b782a5b-1519-4aea-839d-dd25379cc6e7",
   "metadata": {},
   "outputs": [
    {
     "data": {
      "image/png": "[encoded data removed]",
      "text/plain": [
       "<Figure size 1080x360 with 2 Axes>"
      ]
     },
     "metadata": {
      "needs_background": "light"
     },
     "output_type": "display_data"
    }
   ],
   "source": [
    "##### Show two graphs side by side #####\n",
    "\n",
    "fig, axes = plt.subplots(1,2,figsize=(15,5))\n",
    "\n",
    "\n",
    "p_y = Probab_Y(40, 3, 0, X, Y)\n",
    "axes[0].hist(p_y,bins=3,color='c')\n",
    "axes[0].legend([\"P(Y) density function\"])\n",
    "axes[0].set_xlabel(\"Values\")\n",
    "axes[0].set_ylabel(\"Count\")\n",
    "\n",
    "\n",
    "\n",
    "p_y_given_x = Probab_Y_Given_X(3, Y= Y,X = 11.9)\n",
    "axes[1].hist(p_y_given_x, color='c')\n",
    "axes[1].legend([\"P(Y|X) density function\"])\n",
    "axes[1].set_xlabel(\"Values\")\n",
    "axes[1].set_ylabel(\"Count\")\n",
    "plt.savefig(\"Q3_plot.png\")\n",
    "\n",
    "plt.show()\n"
   ]
  },
  {
   "cell_type": "markdown",
   "id": "5be96a52-8164-49a5-80cf-1cb0d019afe1",
   "metadata": {},
   "source": [
    "# Question 4"
   ]
  },
  {
   "cell_type": "code",
   "execution_count": 7,
   "id": "01d7d117-731f-4ea1-a0c3-7fb91c4f0617",
   "metadata": {},
   "outputs": [
    {
     "name": "stdout",
     "output_type": "stream",
     "text": [
      "eign value: \n",
      " [88.49489743 39.50510257]\n",
      "eign vector: \n",
      " [[ 0.69985421  0.69985421]\n",
      " [-0.71428571  0.71428571]]\n"
     ]
    }
   ],
   "source": [
    "################ Computing eignvalues and eignvectors to chack the results of the calculation by hand ################ \n",
    "matrix = np.matrix('64 -24; -25 64')\n",
    "\n",
    "eignvalue, eignvector = np.linalg.eig(matrix)\n",
    "\n",
    "print('eign value: \\n',eignvalue)\n",
    "print('eign vector: \\n',eignvector)"
   ]
  }
 ],
 "metadata": {
  "kernelspec": {
   "display_name": "Python 3 (ipykernel)",
   "language": "python",
   "name": "python3"
  },
  "language_info": {
   "codemirror_mode": {
    "name": "ipython",
    "version": 3
   },
   "file_extension": ".py",
   "mimetype": "text/x-python",
   "name": "python",
   "nbconvert_exporter": "python",
   "pygments_lexer": "ipython3",
   "version": "3.8.10"
  }
 },
 "nbformat": 4,
 "nbformat_minor": 5
}
