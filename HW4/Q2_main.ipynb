{
 "cells": [
  {
   "cell_type": "code",
   "execution_count": 1,
   "metadata": {},
   "outputs": [],
   "source": [
    "import numpy as np\n",
    "from mnist import MNIST\n",
    "import matplotlib.pyplot as plt\n",
    "from sklearn import svm\n",
    "from sklearn.decomposition import PCA\n",
    "import pandas as pd"
   ]
  },
  {
   "cell_type": "markdown",
   "metadata": {},
   "source": [
    "# Question 2"
   ]
  },
  {
   "cell_type": "code",
   "execution_count": 2,
   "metadata": {},
   "outputs": [],
   "source": [
    "## load dataset\n",
    "mdata = MNIST('samples')\n",
    "train_images, train_labels = mdata.load_training()\n",
    "test_images, test_labels = mdata.load_testing()"
   ]
  },
  {
   "cell_type": "code",
   "execution_count": 3,
   "metadata": {},
   "outputs": [],
   "source": [
    "## convert each to a numpy array\n",
    "train_images = np.array(train_images)\n",
    "train_labels = np.array(train_labels)\n",
    "\n",
    "test_images = np.array(test_images)\n",
    "test_labels = np.array(test_labels)"
   ]
  },
  {
   "cell_type": "code",
   "execution_count": 4,
   "metadata": {},
   "outputs": [
    {
     "name": "stdout",
     "output_type": "stream",
     "text": [
      "Train Data Count:  (60000,)\n",
      "Test Data Count:  (10000,)\n"
     ]
    }
   ],
   "source": [
    "print(\"Train Data Count: \",train_labels.shape)\n",
    "print(\"Test Data Count: \", test_labels.shape )"
   ]
  },
  {
   "cell_type": "code",
   "execution_count": 5,
   "metadata": {},
   "outputs": [
    {
     "name": "stdout",
     "output_type": "stream",
     "text": [
      "First train image label:  5\n",
      "First train image image below:\n"
     ]
    },
    {
     "data": {
      "image/png": "[encoded data removed]",
      "text/plain": [
       "<Figure size 432x288 with 1 Axes>"
      ]
     },
     "metadata": {
      "needs_background": "light"
     },
     "output_type": "display_data"
    }
   ],
   "source": [
    "## let's look at the data\n",
    "\n",
    "print('First train image label: ',train_labels[0])\n",
    "print('First train image image below:')\n",
    "plt.imshow(train_images[0].reshape(28, 28))\n",
    "plt.show()"
   ]
  },
  {
   "cell_type": "markdown",
   "metadata": {},
   "source": [
    "## Part A\n",
    "Use Support Vectors machine for multiclassification problem we have, and train a model for it. <br>\n",
    "We're using the svm from sklearn library. The instance SVC is a svm model supporting multiclassifications problem. SVC tries to maximize the margin with boundary with respect to a parameter *C* that is our missclassification parameter containing the penalty error. Our Kernel function when we do not specify anything is radias basis kernel function (*rbf*) and the formula for it is\n",
    "\\begin{equation}\n",
    "K(x,x') = \\exp(-\\frac{||x-x'||}{2\\sigma^2})\n",
    "\\end{equation}\n",
    "And $\\sigma$ is a free parameter and can be set to anything."
   ]
  },
  {
   "cell_type": "code",
   "execution_count": 6,
   "metadata": {},
   "outputs": [
    {
     "data": {
      "text/plain": [
       "SVC()"
      ]
     },
     "execution_count": 6,
     "metadata": {},
     "output_type": "execute_result"
    }
   ],
   "source": [
    "######## Train the model ########\n",
    "model_svm = svm.SVC()\n",
    "model_svm.fit(train_images, train_labels)"
   ]
  },
  {
   "cell_type": "code",
   "execution_count": 7,
   "metadata": {},
   "outputs": [
    {
     "name": "stdout",
     "output_type": "stream",
     "text": [
      "12336\n"
     ]
    }
   ],
   "source": [
    "## See how many support vector we have\n",
    "print(len(model_svm.support_vectors_))"
   ]
  },
  {
   "cell_type": "code",
   "execution_count": 9,
   "metadata": {},
   "outputs": [],
   "source": [
    "## classify new unseen images\n",
    "predict_test_res = model_svm.predict(test_images)"
   ]
  },
  {
   "cell_type": "code",
   "execution_count": 10,
   "metadata": {},
   "outputs": [],
   "source": [
    "predict_test_res = np.array(predict_test_res)"
   ]
  },
  {
   "cell_type": "code",
   "execution_count": 11,
   "metadata": {},
   "outputs": [],
   "source": [
    "def create_confusion_matrix(target_labels, classified_labels, classes):\n",
    "    \"\"\"\n",
    "    Create the Confusion matrix for the classifier\n",
    "\n",
    "    INPUTS:\n",
    "    --------\n",
    "    classified_labels: numpy array of classification result\n",
    "    traget_labels: numpy array of right labels for data\n",
    "    classes:  numpy array of unique elements, containing the class labels\n",
    "\n",
    "    OUTPUT:\n",
    "    ---------\n",
    "    confusion_matrix:  the confusion matrix for the classification process \n",
    "    \"\"\"\n",
    "\n",
    "    ## check the inputs\n",
    "    assert target_labels.shape == classified_labels.shape, \"inputs doesn't have same shape!!\"\n",
    "\n",
    "\n",
    "    ## find how many classes we have\n",
    "    classes_count = len(classes)\n",
    "\n",
    "    ## confusion_matrix array to save each value\n",
    "    ## initialize with zero values\n",
    "    confusion_matrix = np.zeros((classes_count, classes_count))\n",
    "\n",
    "    ## compute each row \n",
    "    for row_idx, class_num in enumerate(classes):\n",
    "\n",
    "        ## create an array of zero values to be updated\n",
    "        confusion_matrix_row = np.zeros(classes_count)\n",
    "\n",
    "        ## compute True Positive\n",
    "        TP = ( (target_labels == class_num) == classified_labels).sum()\n",
    "        \n",
    "        confusion_matrix_row[row_idx] = TP\n",
    "        \n",
    "        ## compute other false classified elements of each row\n",
    "        ## array idx is to save each value of confusion matrix in its index\n",
    "        for array_idx, classified_false in enumerate(classes):\n",
    "            ## if we reached the TP elemnt in matrix continue the loop\n",
    "            if classified_false == class_num:\n",
    "                continue\n",
    "            \n",
    "            count = ((target_labels == class_num) == classified_false).sum()\n",
    "            confusion_matrix_row[array_idx] = count\n",
    "        \n",
    "        ## add the new row to the confusion matrix\n",
    "        confusion_matrix[row_idx] = confusion_matrix_row\n",
    "\n",
    "\n",
    "    ## convert to a numpy matrix\n",
    "    confusion_matrix = np.matrix(confusion_matrix)\n",
    "\n",
    "    return confusion_matrix        \n",
    "\n",
    "def compute_accuracy(target_labels, classified_labels):\n",
    "    \"\"\"\n",
    "    compute the accuracy of classification\n",
    "\n",
    "    INPUTS:\n",
    "    --------\n",
    "    classified_labels: numpy array of classification result\n",
    "    traget_labels: numpy array of right labels for data\n",
    "\n",
    "    OUPUT:\n",
    "    --------\n",
    "    accuracy:  floating value of accuracy\n",
    "    \"\"\"\n",
    "    acc = (target_labels == classified_labels).sum()\n",
    "    accuracy = (acc / len(target_labels)) * 100\n",
    "    return accuracy"
   ]
  },
  {
   "cell_type": "code",
   "execution_count": 12,
   "metadata": {},
   "outputs": [
    {
     "data": {
      "text/html": [
       "<div>\n",
       "<style scoped>\n",
       "    .dataframe tbody tr th:only-of-type {\n",
       "        vertical-align: middle;\n",
       "    }\n",
       "\n",
       "    .dataframe tbody tr th {\n",
       "        vertical-align: top;\n",
       "    }\n",
       "\n",
       "    .dataframe thead th {\n",
       "        text-align: right;\n",
       "    }\n",
       "</style>\n",
       "<table border=\"1\" class=\"dataframe\">\n",
       "  <thead>\n",
       "    <tr style=\"text-align: right;\">\n",
       "      <th></th>\n",
       "      <th>Class 0</th>\n",
       "      <th>Class 1</th>\n",
       "      <th>Class 2</th>\n",
       "      <th>Class 3</th>\n",
       "      <th>Class 4</th>\n",
       "      <th>Class 5</th>\n",
       "      <th>Class 6</th>\n",
       "      <th>Class 7</th>\n",
       "      <th>Class 8</th>\n",
       "      <th>Class 9</th>\n",
       "    </tr>\n",
       "  </thead>\n",
       "  <tbody>\n",
       "    <tr>\n",
       "      <th>Class 0</th>\n",
       "      <td>20.0</td>\n",
       "      <td>980.0</td>\n",
       "      <td>0.0</td>\n",
       "      <td>0.0</td>\n",
       "      <td>0.0</td>\n",
       "      <td>0.0</td>\n",
       "      <td>0.0</td>\n",
       "      <td>0.0</td>\n",
       "      <td>0.0</td>\n",
       "      <td>0.0</td>\n",
       "    </tr>\n",
       "    <tr>\n",
       "      <th>Class 1</th>\n",
       "      <td>8865.0</td>\n",
       "      <td>2119.0</td>\n",
       "      <td>0.0</td>\n",
       "      <td>0.0</td>\n",
       "      <td>0.0</td>\n",
       "      <td>0.0</td>\n",
       "      <td>0.0</td>\n",
       "      <td>0.0</td>\n",
       "      <td>0.0</td>\n",
       "      <td>0.0</td>\n",
       "    </tr>\n",
       "    <tr>\n",
       "      <th>Class 2</th>\n",
       "      <td>8968.0</td>\n",
       "      <td>1032.0</td>\n",
       "      <td>988.0</td>\n",
       "      <td>0.0</td>\n",
       "      <td>0.0</td>\n",
       "      <td>0.0</td>\n",
       "      <td>0.0</td>\n",
       "      <td>0.0</td>\n",
       "      <td>0.0</td>\n",
       "      <td>0.0</td>\n",
       "    </tr>\n",
       "    <tr>\n",
       "      <th>Class 3</th>\n",
       "      <td>8990.0</td>\n",
       "      <td>1010.0</td>\n",
       "      <td>0.0</td>\n",
       "      <td>993.0</td>\n",
       "      <td>0.0</td>\n",
       "      <td>0.0</td>\n",
       "      <td>0.0</td>\n",
       "      <td>0.0</td>\n",
       "      <td>0.0</td>\n",
       "      <td>0.0</td>\n",
       "    </tr>\n",
       "    <tr>\n",
       "      <th>Class 4</th>\n",
       "      <td>9018.0</td>\n",
       "      <td>982.0</td>\n",
       "      <td>0.0</td>\n",
       "      <td>0.0</td>\n",
       "      <td>993.0</td>\n",
       "      <td>0.0</td>\n",
       "      <td>0.0</td>\n",
       "      <td>0.0</td>\n",
       "      <td>0.0</td>\n",
       "      <td>0.0</td>\n",
       "    </tr>\n",
       "    <tr>\n",
       "      <th>Class 5</th>\n",
       "      <td>9108.0</td>\n",
       "      <td>892.0</td>\n",
       "      <td>0.0</td>\n",
       "      <td>0.0</td>\n",
       "      <td>0.0</td>\n",
       "      <td>991.0</td>\n",
       "      <td>0.0</td>\n",
       "      <td>0.0</td>\n",
       "      <td>0.0</td>\n",
       "      <td>0.0</td>\n",
       "    </tr>\n",
       "    <tr>\n",
       "      <th>Class 6</th>\n",
       "      <td>9042.0</td>\n",
       "      <td>958.0</td>\n",
       "      <td>0.0</td>\n",
       "      <td>0.0</td>\n",
       "      <td>0.0</td>\n",
       "      <td>0.0</td>\n",
       "      <td>989.0</td>\n",
       "      <td>0.0</td>\n",
       "      <td>0.0</td>\n",
       "      <td>0.0</td>\n",
       "    </tr>\n",
       "    <tr>\n",
       "      <th>Class 7</th>\n",
       "      <td>8972.0</td>\n",
       "      <td>1028.0</td>\n",
       "      <td>0.0</td>\n",
       "      <td>0.0</td>\n",
       "      <td>0.0</td>\n",
       "      <td>0.0</td>\n",
       "      <td>0.0</td>\n",
       "      <td>999.0</td>\n",
       "      <td>0.0</td>\n",
       "      <td>0.0</td>\n",
       "    </tr>\n",
       "    <tr>\n",
       "      <th>Class 8</th>\n",
       "      <td>9026.0</td>\n",
       "      <td>974.0</td>\n",
       "      <td>0.0</td>\n",
       "      <td>0.0</td>\n",
       "      <td>0.0</td>\n",
       "      <td>0.0</td>\n",
       "      <td>0.0</td>\n",
       "      <td>0.0</td>\n",
       "      <td>990.0</td>\n",
       "      <td>0.0</td>\n",
       "    </tr>\n",
       "    <tr>\n",
       "      <th>Class 9</th>\n",
       "      <td>8991.0</td>\n",
       "      <td>1009.0</td>\n",
       "      <td>0.0</td>\n",
       "      <td>0.0</td>\n",
       "      <td>0.0</td>\n",
       "      <td>0.0</td>\n",
       "      <td>0.0</td>\n",
       "      <td>0.0</td>\n",
       "      <td>0.0</td>\n",
       "      <td>994.0</td>\n",
       "    </tr>\n",
       "  </tbody>\n",
       "</table>\n",
       "</div>"
      ],
      "text/plain": [
       "         Class 0  Class 1  Class 2  Class 3  Class 4  Class 5  Class 6  \\\n",
       "Class 0     20.0    980.0      0.0      0.0      0.0      0.0      0.0   \n",
       "Class 1   8865.0   2119.0      0.0      0.0      0.0      0.0      0.0   \n",
       "Class 2   8968.0   1032.0    988.0      0.0      0.0      0.0      0.0   \n",
       "Class 3   8990.0   1010.0      0.0    993.0      0.0      0.0      0.0   \n",
       "Class 4   9018.0    982.0      0.0      0.0    993.0      0.0      0.0   \n",
       "Class 5   9108.0    892.0      0.0      0.0      0.0    991.0      0.0   \n",
       "Class 6   9042.0    958.0      0.0      0.0      0.0      0.0    989.0   \n",
       "Class 7   8972.0   1028.0      0.0      0.0      0.0      0.0      0.0   \n",
       "Class 8   9026.0    974.0      0.0      0.0      0.0      0.0      0.0   \n",
       "Class 9   8991.0   1009.0      0.0      0.0      0.0      0.0      0.0   \n",
       "\n",
       "         Class 7  Class 8  Class 9  \n",
       "Class 0      0.0      0.0      0.0  \n",
       "Class 1      0.0      0.0      0.0  \n",
       "Class 2      0.0      0.0      0.0  \n",
       "Class 3      0.0      0.0      0.0  \n",
       "Class 4      0.0      0.0      0.0  \n",
       "Class 5      0.0      0.0      0.0  \n",
       "Class 6      0.0      0.0      0.0  \n",
       "Class 7    999.0      0.0      0.0  \n",
       "Class 8      0.0    990.0      0.0  \n",
       "Class 9      0.0      0.0    994.0  "
      ]
     },
     "execution_count": 12,
     "metadata": {},
     "output_type": "execute_result"
    }
   ],
   "source": [
    "## print the confusion matrix\n",
    "confusion_matrix = create_confusion_matrix(test_labels, predict_test_res, np.unique(train_labels))\n",
    "\n",
    "dataframe_column = ['Class 0', 'Class 1','Class 2','Class 3','Class 4', 'Class 5', 'Class 6', 'Class 7', 'Class 8', 'Class 9']\n",
    "df_confusion_matrix = pd.DataFrame(confusion_matrix, columns= dataframe_column, index= dataframe_column)\n",
    "df_confusion_matrix"
   ]
  },
  {
   "cell_type": "code",
   "execution_count": 13,
   "metadata": {},
   "outputs": [],
   "source": [
    "## save the confusion matrix in a directory\n",
    "df_confusion_matrix.to_csv('results/Q2_partA_confusion_matrix.csv')"
   ]
  },
  {
   "cell_type": "code",
   "execution_count": 14,
   "metadata": {},
   "outputs": [
    {
     "data": {
      "text/plain": [
       "97.92"
      ]
     },
     "execution_count": 14,
     "metadata": {},
     "output_type": "execute_result"
    }
   ],
   "source": [
    "## compute the accuracy of svm model\n",
    "compute_accuracy(test_labels, predict_test_res)"
   ]
  },
  {
   "cell_type": "markdown",
   "metadata": {},
   "source": [
    "## Part B\n",
    "Reducing data with PCA method, saving 0.9 of data variance and using svd_solver."
   ]
  },
  {
   "cell_type": "code",
   "execution_count": 15,
   "metadata": {},
   "outputs": [],
   "source": [
    "model_pca = PCA(n_components=0.9, svd_solver='full')"
   ]
  },
  {
   "cell_type": "code",
   "execution_count": 16,
   "metadata": {},
   "outputs": [
    {
     "data": {
      "text/plain": [
       "PCA(n_components=0.9, svd_solver='full')"
      ]
     },
     "execution_count": 16,
     "metadata": {},
     "output_type": "execute_result"
    }
   ],
   "source": [
    "model_pca.fit(train_images, train_labels)"
   ]
  },
  {
   "cell_type": "code",
   "execution_count": 17,
   "metadata": {},
   "outputs": [
    {
     "data": {
      "text/plain": [
       "array([0.09704664, 0.07095924, 0.06169089, 0.05389419, 0.04868797,\n",
       "       0.04312231, 0.0327193 , 0.02883895, 0.02762029, 0.02357001,\n",
       "       0.0210919 , 0.02022991, 0.01715818, 0.01692111, 0.01578641,\n",
       "       0.01482953, 0.01324561, 0.01276897, 0.01187263, 0.01152684,\n",
       "       0.01066166, 0.01006713, 0.00953573, 0.00912544, 0.00883405,\n",
       "       0.00839319, 0.00812579, 0.00786366, 0.00744733, 0.00690859,\n",
       "       0.00658094, 0.00648148, 0.00602615, 0.00586582, 0.00570021,\n",
       "       0.00543628, 0.00505786, 0.00487859, 0.00481429, 0.00472266,\n",
       "       0.00456747, 0.00444836, 0.00418501, 0.00398215, 0.00384975,\n",
       "       0.00375103, 0.00362009, 0.00351591, 0.00340058, 0.00321874,\n",
       "       0.00319017, 0.00312805, 0.00295983, 0.00288955, 0.0028413 ,\n",
       "       0.00271436, 0.00269521, 0.00258473, 0.00253771, 0.00244781,\n",
       "       0.00240506, 0.00239263, 0.00230408, 0.00221532, 0.00213721,\n",
       "       0.00207225, 0.00203043, 0.00196783, 0.00192853, 0.00188632,\n",
       "       0.00186977, 0.00181083, 0.00177562, 0.00174898, 0.00165758,\n",
       "       0.00163894, 0.00161462, 0.00155116, 0.00147613, 0.00143176,\n",
       "       0.00142094, 0.00141153, 0.00140174, 0.00135736, 0.00133847,\n",
       "       0.00132396, 0.00130157])"
      ]
     },
     "execution_count": 17,
     "metadata": {},
     "output_type": "execute_result"
    }
   ],
   "source": [
    "## look at the variances of data\n",
    "model_pca.explained_variance_ratio_"
   ]
  },
  {
   "cell_type": "code",
   "execution_count": 18,
   "metadata": {},
   "outputs": [
    {
     "name": "stdout",
     "output_type": "stream",
     "text": [
      "Befor dimension reduction shape  784\n",
      "After dimension reduction shape  87\n"
     ]
    }
   ],
   "source": [
    "print('Befor dimension reduction shape ', len(train_images[0]))\n",
    "train_images_reduced = model_pca.transform(train_images)\n",
    "print('After dimension reduction shape ', len(train_images_reduced[0]))"
   ]
  },
  {
   "cell_type": "code",
   "execution_count": 19,
   "metadata": {},
   "outputs": [
    {
     "data": {
      "text/plain": [
       "SVC()"
      ]
     },
     "execution_count": 19,
     "metadata": {},
     "output_type": "execute_result"
    }
   ],
   "source": [
    "model_svm_reduced = svm.SVC()\n",
    "model_svm_reduced.fit(train_images_reduced, train_labels)"
   ]
  },
  {
   "cell_type": "code",
   "execution_count": 20,
   "metadata": {},
   "outputs": [],
   "source": [
    "## reduce test images\n",
    "test_images_reduced = model_pca.transform(test_images)"
   ]
  },
  {
   "cell_type": "code",
   "execution_count": 21,
   "metadata": {},
   "outputs": [],
   "source": [
    "## use the reduced dimension svm model to classify unseen data\n",
    "predict_test_reduction_res = model_svm_reduced.predict(test_images_reduced)"
   ]
  },
  {
   "cell_type": "code",
   "execution_count": 22,
   "metadata": {},
   "outputs": [
    {
     "data": {
      "text/html": [
       "<div>\n",
       "<style scoped>\n",
       "    .dataframe tbody tr th:only-of-type {\n",
       "        vertical-align: middle;\n",
       "    }\n",
       "\n",
       "    .dataframe tbody tr th {\n",
       "        vertical-align: top;\n",
       "    }\n",
       "\n",
       "    .dataframe thead th {\n",
       "        text-align: right;\n",
       "    }\n",
       "</style>\n",
       "<table border=\"1\" class=\"dataframe\">\n",
       "  <thead>\n",
       "    <tr style=\"text-align: right;\">\n",
       "      <th></th>\n",
       "      <th>Class 0</th>\n",
       "      <th>Class 1</th>\n",
       "      <th>Class 2</th>\n",
       "      <th>Class 3</th>\n",
       "      <th>Class 4</th>\n",
       "      <th>Class 5</th>\n",
       "      <th>Class 6</th>\n",
       "      <th>Class 7</th>\n",
       "      <th>Class 8</th>\n",
       "      <th>Class 9</th>\n",
       "    </tr>\n",
       "  </thead>\n",
       "  <tbody>\n",
       "    <tr>\n",
       "      <th>Class 0</th>\n",
       "      <td>18.0</td>\n",
       "      <td>980.0</td>\n",
       "      <td>0.0</td>\n",
       "      <td>0.0</td>\n",
       "      <td>0.0</td>\n",
       "      <td>0.0</td>\n",
       "      <td>0.0</td>\n",
       "      <td>0.0</td>\n",
       "      <td>0.0</td>\n",
       "      <td>0.0</td>\n",
       "    </tr>\n",
       "    <tr>\n",
       "      <th>Class 1</th>\n",
       "      <td>8865.0</td>\n",
       "      <td>2121.0</td>\n",
       "      <td>0.0</td>\n",
       "      <td>0.0</td>\n",
       "      <td>0.0</td>\n",
       "      <td>0.0</td>\n",
       "      <td>0.0</td>\n",
       "      <td>0.0</td>\n",
       "      <td>0.0</td>\n",
       "      <td>0.0</td>\n",
       "    </tr>\n",
       "    <tr>\n",
       "      <th>Class 2</th>\n",
       "      <td>8968.0</td>\n",
       "      <td>1032.0</td>\n",
       "      <td>987.0</td>\n",
       "      <td>0.0</td>\n",
       "      <td>0.0</td>\n",
       "      <td>0.0</td>\n",
       "      <td>0.0</td>\n",
       "      <td>0.0</td>\n",
       "      <td>0.0</td>\n",
       "      <td>0.0</td>\n",
       "    </tr>\n",
       "    <tr>\n",
       "      <th>Class 3</th>\n",
       "      <td>8990.0</td>\n",
       "      <td>1010.0</td>\n",
       "      <td>0.0</td>\n",
       "      <td>992.0</td>\n",
       "      <td>0.0</td>\n",
       "      <td>0.0</td>\n",
       "      <td>0.0</td>\n",
       "      <td>0.0</td>\n",
       "      <td>0.0</td>\n",
       "      <td>0.0</td>\n",
       "    </tr>\n",
       "    <tr>\n",
       "      <th>Class 4</th>\n",
       "      <td>9018.0</td>\n",
       "      <td>982.0</td>\n",
       "      <td>0.0</td>\n",
       "      <td>0.0</td>\n",
       "      <td>992.0</td>\n",
       "      <td>0.0</td>\n",
       "      <td>0.0</td>\n",
       "      <td>0.0</td>\n",
       "      <td>0.0</td>\n",
       "      <td>0.0</td>\n",
       "    </tr>\n",
       "    <tr>\n",
       "      <th>Class 5</th>\n",
       "      <td>9108.0</td>\n",
       "      <td>892.0</td>\n",
       "      <td>0.0</td>\n",
       "      <td>0.0</td>\n",
       "      <td>0.0</td>\n",
       "      <td>990.0</td>\n",
       "      <td>0.0</td>\n",
       "      <td>0.0</td>\n",
       "      <td>0.0</td>\n",
       "      <td>0.0</td>\n",
       "    </tr>\n",
       "    <tr>\n",
       "      <th>Class 6</th>\n",
       "      <td>9042.0</td>\n",
       "      <td>958.0</td>\n",
       "      <td>0.0</td>\n",
       "      <td>0.0</td>\n",
       "      <td>0.0</td>\n",
       "      <td>0.0</td>\n",
       "      <td>989.0</td>\n",
       "      <td>0.0</td>\n",
       "      <td>0.0</td>\n",
       "      <td>0.0</td>\n",
       "    </tr>\n",
       "    <tr>\n",
       "      <th>Class 7</th>\n",
       "      <td>8972.0</td>\n",
       "      <td>1028.0</td>\n",
       "      <td>0.0</td>\n",
       "      <td>0.0</td>\n",
       "      <td>0.0</td>\n",
       "      <td>0.0</td>\n",
       "      <td>0.0</td>\n",
       "      <td>997.0</td>\n",
       "      <td>0.0</td>\n",
       "      <td>0.0</td>\n",
       "    </tr>\n",
       "    <tr>\n",
       "      <th>Class 8</th>\n",
       "      <td>9026.0</td>\n",
       "      <td>974.0</td>\n",
       "      <td>0.0</td>\n",
       "      <td>0.0</td>\n",
       "      <td>0.0</td>\n",
       "      <td>0.0</td>\n",
       "      <td>0.0</td>\n",
       "      <td>0.0</td>\n",
       "      <td>989.0</td>\n",
       "      <td>0.0</td>\n",
       "    </tr>\n",
       "    <tr>\n",
       "      <th>Class 9</th>\n",
       "      <td>8991.0</td>\n",
       "      <td>1009.0</td>\n",
       "      <td>0.0</td>\n",
       "      <td>0.0</td>\n",
       "      <td>0.0</td>\n",
       "      <td>0.0</td>\n",
       "      <td>0.0</td>\n",
       "      <td>0.0</td>\n",
       "      <td>0.0</td>\n",
       "      <td>992.0</td>\n",
       "    </tr>\n",
       "  </tbody>\n",
       "</table>\n",
       "</div>"
      ],
      "text/plain": [
       "         Class 0  Class 1  Class 2  Class 3  Class 4  Class 5  Class 6  \\\n",
       "Class 0     18.0    980.0      0.0      0.0      0.0      0.0      0.0   \n",
       "Class 1   8865.0   2121.0      0.0      0.0      0.0      0.0      0.0   \n",
       "Class 2   8968.0   1032.0    987.0      0.0      0.0      0.0      0.0   \n",
       "Class 3   8990.0   1010.0      0.0    992.0      0.0      0.0      0.0   \n",
       "Class 4   9018.0    982.0      0.0      0.0    992.0      0.0      0.0   \n",
       "Class 5   9108.0    892.0      0.0      0.0      0.0    990.0      0.0   \n",
       "Class 6   9042.0    958.0      0.0      0.0      0.0      0.0    989.0   \n",
       "Class 7   8972.0   1028.0      0.0      0.0      0.0      0.0      0.0   \n",
       "Class 8   9026.0    974.0      0.0      0.0      0.0      0.0      0.0   \n",
       "Class 9   8991.0   1009.0      0.0      0.0      0.0      0.0      0.0   \n",
       "\n",
       "         Class 7  Class 8  Class 9  \n",
       "Class 0      0.0      0.0      0.0  \n",
       "Class 1      0.0      0.0      0.0  \n",
       "Class 2      0.0      0.0      0.0  \n",
       "Class 3      0.0      0.0      0.0  \n",
       "Class 4      0.0      0.0      0.0  \n",
       "Class 5      0.0      0.0      0.0  \n",
       "Class 6      0.0      0.0      0.0  \n",
       "Class 7    997.0      0.0      0.0  \n",
       "Class 8      0.0    989.0      0.0  \n",
       "Class 9      0.0      0.0    992.0  "
      ]
     },
     "execution_count": 22,
     "metadata": {},
     "output_type": "execute_result"
    }
   ],
   "source": [
    "reduced_data_confusion_matrix = create_confusion_matrix(test_labels, predict_test_reduction_res, np.unique(train_labels))\n",
    "\n",
    "dataframe_column = ['Class 0', 'Class 1','Class 2','Class 3','Class 4', 'Class 5', 'Class 6', 'Class 7', 'Class 8', 'Class 9']\n",
    "df_reduced_data_confusion_matrix = pd.DataFrame(reduced_data_confusion_matrix, columns= dataframe_column, index= dataframe_column)\n",
    "df_reduced_data_confusion_matrix"
   ]
  },
  {
   "cell_type": "code",
   "execution_count": 23,
   "metadata": {},
   "outputs": [],
   "source": [
    "df_reduced_data_confusion_matrix.to_csv('results/Q2_partB_confusion_matrix.csv')"
   ]
  },
  {
   "cell_type": "code",
   "execution_count": 24,
   "metadata": {},
   "outputs": [
    {
     "data": {
      "text/plain": [
       "98.44000000000001"
      ]
     },
     "execution_count": 24,
     "metadata": {},
     "output_type": "execute_result"
    }
   ],
   "source": [
    "## see the accuracy of the reduced model\n",
    "compute_accuracy(test_labels, predict_test_reduction_res)"
   ]
  },
  {
   "cell_type": "markdown",
   "metadata": {},
   "source": [
    "## A comparison between part A and part B\n",
    "In part A, the svm model takes 2 minutes and 29 seconds to be trained and about 1 minutes and 8 seconds to classify new images. But in part B with PCA data reduction, we could reduce the data from 784 dimensions into 87 dimension. This implies that we reduced the feature space size 784 into 87, And by this we could train the svm model and classify new data much faster. We saw that the training time is reduced to 41.2 seconds and the classification time is about just 11.4 seconds. <br>\n",
    "We have also created the confusion matrixes and computed the accuracy of each part. From part A the accuracy was about 97.92 % and in part B we have found the accuracy 98.44 % which is slightly more. <br>\n",
    "At last in summary the most important difference between part A and part B was the time needed to train and classification, that with data reduction we could achive the same results with much less time.     "
   ]
  }
 ],
 "metadata": {
  "interpreter": {
   "hash": "916dbcbb3f70747c44a77c7bcd40155683ae19c65e1c03b4aa3499c5328201f1"
  },
  "kernelspec": {
   "display_name": "Python 3 (ipykernel)",
   "language": "python",
   "name": "python3"
  },
  "language_info": {
   "codemirror_mode": {
    "name": "ipython",
    "version": 3
   },
   "file_extension": ".py",
   "mimetype": "text/x-python",
   "name": "python",
   "nbconvert_exporter": "python",
   "pygments_lexer": "ipython3",
   "version": "3.8.10"
  }
 },
 "nbformat": 4,
 "nbformat_minor": 4
}
